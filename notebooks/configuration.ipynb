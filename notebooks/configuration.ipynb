{
 "cells": [
  {
   "cell_type": "markdown",
   "metadata": {},
   "source": [
    "## The `CompsynConfig` class\n",
    "\n",
    "`compsyn.utils.CompsynConfig` provides a convenient way to setup your runtime configuration through code.\n",
    "\n",
    "```python\n",
    "class CompsynConfig:\n",
    "    def __init__(self, **kwargs: Dict[str, str]) -> None:\n",
    "        self.config = dict()\n",
    "        # fill argument values according to argparse config\n",
    "        for key, val in self.args.items():\n",
    "            set_env_var(key, val)\n",
    "            self.config[key] = val\n",
    "        # overwrite argparse values with those passed\n",
    "        for key, val in kwargs.items():\n",
    "            set_env_var(key, val)  # sets passed config values in os.environ\n",
    "            self.config[key] = val # store on self for convenience\n",
    "```\n",
    "\n",
    "It is possible to configure compsyn entirely using environment variables, but this class provides a more code-centric way to set relevant environment variables. `CompsynConfig.args` are collected from the various `get_<component>_args` methods found throughout compsyn. `kwargs` passed to `CompsynConfig.__init__` will take precedence over those gathered from argparse. "
   ]
  },
  {
   "cell_type": "code",
   "execution_count": 2,
   "metadata": {},
   "outputs": [
    {
     "name": "stdout",
     "output_type": "stream",
     "text": [
      "CompsynConfig\n",
      "\twork_dir                       = //anaconda3/lib/python3.7/site-packages\n",
      "\tjzazbz_array                   = ../jzazbz_array.npy\n",
      "\tgoogle_application_credentials = None\n",
      "\tdriver_browser                 = Chrome\n",
      "\tdriver_path                    = chromedriver\n",
      "\ts3_bucket                      = None\n",
      "\ts3_region_name                 = None\n",
      "\ts3_endpoint_url                = None\n",
      "\ts3_access_key_id               = None\n",
      "\ts3_secret_access_key           = None\n",
      "\tlog_level                      = 20\n",
      "\tlog_file                       = None\n"
     ]
    }
   ],
   "source": [
    "from compsyn.config import CompsynConfig\n",
    "\n",
    "# the host running this notebook has many compsyn environment variables set, so the CompsynConfig will see them.\n",
    "print(CompsynConfig(jzazbz_array='../jzazbz_array.npy'))"
   ]
  },
  {
   "cell_type": "markdown",
   "metadata": {},
   "source": [
    "The `CompsynConfig` class sets these values in `os.environ`, so that other parts of the code can access them. You may wish to set config values through code by passing arg values to the `CompsynConfig` instantiation."
   ]
  },
  {
   "cell_type": "code",
   "execution_count": 3,
   "metadata": {},
   "outputs": [
    {
     "name": "stdout",
     "output_type": "stream",
     "text": [
      "[1619053363] (compsyn.CompsynConfig)  WARNING: jzazbz_array.npy does not exist!\n",
      "CompsynConfig\n",
      "\twork_dir                       = //anaconda3/lib/python3.7/site-packages\n",
      "\tjzazbz_array                   = jzazbz_array.npy\n",
      "\tgoogle_application_credentials = None\n",
      "\tdriver_browser                 = Chrome\n",
      "\tdriver_path                    = chromedriver\n",
      "\ts3_bucket                      = None\n",
      "\ts3_region_name                 = None\n",
      "\ts3_endpoint_url                = None\n",
      "\ts3_access_key_id               = None\n",
      "\ts3_secret_access_key           = None\n",
      "\tlog_level                      = 20\n",
      "\tlog_file                       = None\n",
      "\thostname                       = my-id\n"
     ]
    }
   ],
   "source": [
    "from compsyn.trial import get_trial_from_env, Trial\n",
    "\n",
    "config = CompsynConfig(\n",
    "    driver_browser=\"Chrome\", \n",
    "    driver_path=\"chromedriver\", \n",
    "    hostname=\"my-id\"\n",
    ")\n",
    "\n",
    "print(config)"
   ]
  },
  {
   "cell_type": "markdown",
   "metadata": {},
   "source": [
    "## Purpose of `CompsynConfig`\n",
    "\n",
    "The `CompsynConfig` class is a convenient mechanism for setting up the environment `compsyn` code uses to do it's multi-modal analyses. The values set through `CompsynConfig` are required for *the code to run successfully*.\n",
    "\n",
    "To facilitate using compsyn as an experimental framework, further configuration may be achieved through the `Trial` class (See associated notebook trial_and_vector.ipynb). The values set in `Trial` should not be considered part of the `CompsynConfig`, as a given compsyn user may be analyzing data accross multiple trials. The values set through `Trial` are required to *implement experimental designs*.\n",
    "\n",
    "\n",
    "__Note__: The config values are likely to not change, so can be set in the environment. If you are using jupyter notebooks, this means the environment of the shell running the jupyter notebook server. \n",
    "\n",
    "__Note__: Usage is optional, or rather, defaults are provided for the core functionality of the `compsyn` package. Using more advanced features, like the shared s3 backend, will require configuration to be set. Here we will show those defaults by clearing the environment of this kernel:\n"
   ]
  },
  {
   "cell_type": "code",
   "execution_count": 3,
   "metadata": {},
   "outputs": [
    {
     "name": "stdout",
     "output_type": "stream",
     "text": [
      "[1616905443] (compsyn.CompsynConfig)  WARNING: jzazbz_array.npy does not exist!\n",
      "[1616905443] (compsyn.Trial)  INFO: experiment: default-experiment\n",
      "[1616905443] (compsyn.Trial)  INFO: trial_id: default-trial\n",
      "[1616905443] (compsyn.Trial)  INFO: hostname: default-hostname\n",
      "default Trial\n",
      "\texperiment_name = default-experiment\n",
      "\ttrial_id        = default-trial\n",
      "\thostname        = default-hostname\n",
      "\ttrial_timestamp = 2021-03-28\n",
      "\n",
      "default CompsynConfig\n",
      "\twork_dir                       = /Users/tasker/checkout/comp-syn\n",
      "\tjzazbz_array                   = jzazbz_array.npy\n",
      "\tgoogle_application_credentials = None\n",
      "\tdriver_browser                 = Chrome\n",
      "\tdriver_path                    = chromedriver\n",
      "\ts3_bucket                      = None\n",
      "\ts3_region_name                 = None\n",
      "\ts3_endpoint_url                = None\n",
      "\ts3_access_key_id               = None\n",
      "\ts3_secret_access_key           = None\n",
      "\tlog_level                      = 20\n",
      "\tlog_file                       = None\n"
     ]
    }
   ],
   "source": [
    "import os\n",
    "\n",
    "for key, val in os.environ.items():\n",
    "    if key.startswith(\"COMPSYN_\"):\n",
    "        del os.environ[key] # simulate an unset environment\n",
    "\n",
    "\n",
    "default_config = CompsynConfig()\n",
    "default_trial = get_trial_from_env()\n",
    "\n",
    "print(\"default\", default_trial)\n",
    "print()\n",
    "print(\"default\", default_config)"
   ]
  },
  {
   "cell_type": "markdown",
   "metadata": {},
   "source": [
    "*__Note__: the default work_dir will be the root of wherever you have the comp-syn repository cloned.*\n",
    "\n",
    "## Common Configuration patterns\n",
    "\n",
    "It can get messy quickly to store data in the default work directory, which will be wherever the comp-syn repository is cloned. It is usually a good idea to use a `work_dir` that exists outside of the repo. For instance, if you are collecting a large amount of data, you may wish to use a `work_dir` located on an external harddrive, like:"
   ]
  },
  {
   "cell_type": "code",
   "execution_count": 4,
   "metadata": {},
   "outputs": [
    {
     "name": "stdout",
     "output_type": "stream",
     "text": [
      "[1616905443] (compsyn.CompsynConfig)  WARNING: jzazbz_array.npy does not exist!\n",
      "\n",
      "CompsynConfig\n",
      "\twork_dir                       = /Volumes/LACIE/compsyn/data/zth\n",
      "\tjzazbz_array                   = jzazbz_array.npy\n",
      "\tgoogle_application_credentials = None\n",
      "\tdriver_browser                 = Chrome\n",
      "\tdriver_path                    = chromedriver\n",
      "\ts3_bucket                      = None\n",
      "\ts3_region_name                 = None\n",
      "\ts3_endpoint_url                = None\n",
      "\ts3_access_key_id               = None\n",
      "\ts3_secret_access_key           = None\n",
      "\tlog_level                      = 20\n",
      "\tlog_file                       = None\n"
     ]
    }
   ],
   "source": [
    "config = CompsynConfig(\n",
    "    work_dir=\"/Volumes/LACIE/compsyn/data/zth\"\n",
    ")\n",
    "\n",
    "print()\n",
    "print(config)"
   ]
  },
  {
   "cell_type": "markdown",
   "metadata": {},
   "source": [
    "### Use the environment for defaults\n",
    "\n",
    "A further improvement on this would be to set your desired `work_dir` in the environment running the jupyter notebook server. All of the `CompsynConfig` values can be set by environment variables named with a `COMPSYN_` prefix, for example `COMPSYN_WORK_DIR` and `COMPSYN_DRIVER_PATH`. \n",
    "\n",
    "Unlike the `CompsynConfig` values, there may be multiple sets of `Trial` values in a given jupyter notebook (or other workflow), so you should usually use the `Trial` class to set trial values directly in code:"
   ]
  },
  {
   "cell_type": "code",
   "execution_count": 5,
   "metadata": {},
   "outputs": [
    {
     "name": "stdout",
     "output_type": "stream",
     "text": [
      "[1616905443] (compsyn.Trial)  INFO: experiment: regional-differences\n",
      "[1616905443] (compsyn.Trial)  INFO: trial_id: phase-0\n",
      "[1616905443] (compsyn.Trial)  INFO: hostname: toronto\n",
      "\n",
      "Trial\n",
      "\texperiment_name = regional-differences\n",
      "\ttrial_id        = phase-0\n",
      "\thostname        = toronto\n",
      "\ttrial_timestamp = 2021-03-28\n"
     ]
    }
   ],
   "source": [
    "# toy example trial for participating in some geolocation-sensitive experiment\n",
    "trial = Trial(\n",
    "    experiment_name=\"regional-differences\",\n",
    "    trial_id=\"phase-0\",\n",
    "    hostname=\"toronto\",\n",
    ")\n",
    "\n",
    "print()\n",
    "print(trial)"
   ]
  },
  {
   "cell_type": "markdown",
   "metadata": {},
   "source": [
    "__Note__: Environment variables for the trial values are supported as well, to facilitate programmatic execution of compsyn experiments."
   ]
  }
 ],
 "metadata": {
  "kernelspec": {
   "display_name": "Python 3",
   "language": "python",
   "name": "python3"
  },
  "language_info": {
   "codemirror_mode": {
    "name": "ipython",
    "version": 3
   },
   "file_extension": ".py",
   "mimetype": "text/x-python",
   "name": "python",
   "nbconvert_exporter": "python",
   "pygments_lexer": "ipython3",
   "version": "3.7.3"
  }
 },
 "nbformat": 4,
 "nbformat_minor": 4
}
