{
 "cells": [
  {
   "cell_type": "markdown",
   "metadata": {},
   "source": [
    "## The `CompsynConfig` class\n",
    "\n",
    "`compsyn.utils.CompsynConfig` provides a convenient way to setup your runtime configuration through code.\n",
    "\n",
    "```\n",
    "class CompsynConfig:\n",
    "    def __init__(self, **kwargs: Dict[str, str]) -> None:\n",
    "        self.config = dict()\n",
    "        for key, val in kwargs.items():\n",
    "            set_env_var(key, val)  # sets passed config value in os.environ\n",
    "            self.config[key] = val # record on config object for convenience\n",
    "```\n",
    "\n",
    "It is possible to configure compsyn entirely using environment variables, but this class provides a more code-friendly way for setting relevant environment variables."
   ]
  },
  {
   "cell_type": "code",
   "execution_count": 2,
   "metadata": {},
   "outputs": [
    {
     "name": "stdout",
     "output_type": "stream",
     "text": [
      "CompsynConfig\n",
      "\texperiment_name      = default-experiment\n",
      "\ttrial_id             = default-trial\n",
      "\thostname             = default-hostname\n",
      "\ttrial_timestamp      = 2021-03-21\n",
      "\twork_dir             = None\n",
      "\tjzazbz_array         = jzazbz_array.npy\n",
      "\ts3_bucket            = None\n",
      "\ts3_region_name       = None\n",
      "\ts3_endpoint_url      = None\n",
      "\ts3_access_key_id     = None\n",
      "\ts3_secret_access_key = None\n"
     ]
    }
   ],
   "source": [
    "from compsyn.config import CompsynConfig\n",
    "\n",
    "print(CompsynConfig())"
   ]
  },
  {
   "cell_type": "markdown",
   "metadata": {},
   "source": [
    "The `CompsynConfig` class sets these values in `os.environ`, so that other parts of the code can access them."
   ]
  },
  {
   "cell_type": "code",
   "execution_count": 7,
   "metadata": {},
   "outputs": [
    {
     "name": "stdout",
     "output_type": "stream",
     "text": [
      "[2021-03-21 13:06:51,746] (compsyn.set_env_var)  WARNING: existing environment value (default-experiment) for COMPSYN_EXPERIMENT_NAME will be overwritten with regional-search-patterns\n",
      "[2021-03-21 13:06:51,747] (compsyn.set_env_var)  WARNING: existing environment value (default-trial) for COMPSYN_TRIAL_ID will be overwritten with phase-0\n",
      "[2021-03-21 13:06:51,748] (compsyn.set_env_var)  WARNING: existing environment value (default-hostname) for COMPSYN_HOSTNAME will be overwritten with shared-notebook-user\n",
      "[2021-03-21 13:06:51,751] (compsyn.Trial)  WARNING: no work_dir passed, using a temporary directory: /var/folders/4m/lkjsk_gs4pb08h8hnyq399380000gn/T/tmp2tvwf9hv\n",
      "[2021-03-21 13:06:51,752] (compsyn.Trial)  INFO: work_dir: /var/folders/4m/lkjsk_gs4pb08h8hnyq399380000gn/T/tmp2tvwf9hv\n",
      "[2021-03-21 13:06:51,752] (compsyn.Trial)  INFO: experiment: regional-search-patterns\n",
      "[2021-03-21 13:06:51,753] (compsyn.Trial)  INFO: trial_id: phase-0\n",
      "[2021-03-21 13:06:51,754] (compsyn.Trial)  INFO: hostname: shared-notebook-user\n"
     ]
    }
   ],
   "source": [
    "from compsyn.trial import get_trial\n",
    "\n",
    "config = CompsynConfig(experiment_name=\"regional-search-patterns\", trial_id=\"phase-0\", hostname=\"shared-notebook-user\")\n",
    "\n",
    "trial = get_trial()"
   ]
  },
  {
   "cell_type": "code",
   "execution_count": 8,
   "metadata": {},
   "outputs": [
    {
     "name": "stdout",
     "output_type": "stream",
     "text": [
      "regional-search-patterns\n"
     ]
    }
   ],
   "source": [
    "import os; print(os.getenv(\"COMPSYN_EXPERIMENT_NAME\"))"
   ]
  },
  {
   "cell_type": "markdown",
   "metadata": {},
   "source": [
    "Note that it is not required to use this class if variables are set in the environment already (or even without doing th at, if the default values will suffice)."
   ]
  },
  {
   "cell_type": "code",
   "execution_count": 9,
   "metadata": {},
   "outputs": [
    {
     "name": "stdout",
     "output_type": "stream",
     "text": [
      "[2021-03-21 13:07:04,307] (compsyn.Trial)  WARNING: no work_dir passed, using a temporary directory: /var/folders/4m/lkjsk_gs4pb08h8hnyq399380000gn/T/tmp98e9i9k4\n",
      "[2021-03-21 13:07:04,308] (compsyn.Trial)  INFO: work_dir: /var/folders/4m/lkjsk_gs4pb08h8hnyq399380000gn/T/tmp98e9i9k4\n",
      "[2021-03-21 13:07:04,308] (compsyn.Trial)  INFO: experiment: default-experiment\n",
      "[2021-03-21 13:07:04,309] (compsyn.Trial)  INFO: trial_id: default-trial\n",
      "[2021-03-21 13:07:04,310] (compsyn.Trial)  INFO: hostname: default-hostname\n",
      "Trial\n",
      "\texperiment_name = default-experiment\n",
      "\ttrial_id        = default-trial\n",
      "\thostname        = default-hostname\n",
      "\n",
      "CompsynConfig\n",
      "\texperiment_name      = default-experiment\n",
      "\ttrial_id             = default-trial\n",
      "\thostname             = default-hostname\n",
      "\ttrial_timestamp      = 2021-03-21\n",
      "\twork_dir             = None\n",
      "\tjzazbz_array         = jzazbz_array.npy\n",
      "\ts3_bucket            = None\n",
      "\ts3_region_name       = None\n",
      "\ts3_endpoint_url      = None\n",
      "\ts3_access_key_id     = None\n",
      "\ts3_secret_access_key = None\n"
     ]
    }
   ],
   "source": [
    "for key, val in os.environ.items():\n",
    "    if key.startswith(\"COMPSYN_\"):\n",
    "        del os.environ[key] # simulate an unset environment\n",
    "        \n",
    "del config\n",
    "del trial\n",
    "\n",
    "trial = get_trial()\n",
    "print(trial)\n",
    "print()\n",
    "print(CompsynConfig())"
   ]
  },
  {
   "cell_type": "code",
   "execution_count": null,
   "metadata": {},
   "outputs": [],
   "source": [
    "CompSynConfig(\n",
    "    experiment_name=\"regional-differences\",\n",
    "    trial_id=\"phase-0\",\n",
    "    hostname=\"notebook-toronto\",\n",
    "    \"\")"
   ]
  },
  {
   "cell_type": "code",
   "execution_count": null,
   "metadata": {},
   "outputs": [],
   "source": []
  }
 ],
 "metadata": {
  "kernelspec": {
   "display_name": "Python 3",
   "language": "python",
   "name": "python3"
  }
 },
 "nbformat": 4,
 "nbformat_minor": 4
}
