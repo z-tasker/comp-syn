{
 "cells": [
  {
   "cell_type": "markdown",
   "metadata": {},
   "source": [
    "## Make Colorgram Continuum Notebook\n",
    "\n",
    "This notebook will generate a colorgram continuum using a sliding window across an image set."
   ]
  },
  {
   "cell_type": "code",
   "execution_count": null,
   "metadata": {},
   "outputs": [],
   "source": [
    "import compsyn\n",
    "from PIL import Image\n",
    "import os\n",
    "\n",
    "import PIL\n",
    "import numpy as np\n",
    "from numba import jit, prange\n",
    "from collections import OrderedDict "
   ]
  },
  {
   "cell_type": "code",
   "execution_count": null,
   "metadata": {},
   "outputs": [],
   "source": [
    "from compsyn.helperfunctions import settings, search_and_download, run_google_vision, write_img_classifications_to_file"
   ]
  },
  {
   "cell_type": "code",
   "execution_count": null,
   "metadata": {},
   "outputs": [],
   "source": [
    "from compsyn.wordnet_functions import get_wordnet_tree_data"
   ]
  },
  {
   "cell_type": "code",
   "execution_count": null,
   "metadata": {},
   "outputs": [],
   "source": [
    "GOOGLE_APPLICATION_CREDENTIALS = \"compsyn3-8cf6580619a9.json\""
   ]
  },
  {
   "cell_type": "code",
   "execution_count": null,
   "metadata": {},
   "outputs": [],
   "source": [
    "DRIVER_PATH = \"chromedriver\""
   ]
  },
  {
   "cell_type": "code",
   "execution_count": null,
   "metadata": {},
   "outputs": [],
   "source": [
    "settings(GOOGLE_APPLICATION_CREDENTIALS, DRIVER_PATH)"
   ]
  },
  {
   "cell_type": "code",
   "execution_count": null,
   "metadata": {},
   "outputs": [],
   "source": [
    "number_images = 100 \n",
    "home = os.getcwd()"
   ]
  },
  {
   "cell_type": "code",
   "execution_count": null,
   "metadata": {},
   "outputs": [],
   "source": [
    "search_terms = ['tiles']"
   ]
  },
  {
   "cell_type": "code",
   "execution_count": null,
   "metadata": {},
   "outputs": [],
   "source": [
    "img_urls_dict = {}\n",
    "for search_term in search_terms:\n",
    "    print(search_term)\n",
    "    urls = search_and_download(search_term = search_term, driver_path = DRIVER_PATH, home = home, number_images = number_images)\n",
    "    img_urls_dict[search_term] = urls"
   ]
  },
  {
   "cell_type": "markdown",
   "metadata": {},
   "source": [
    "### Create new continuum folder "
   ]
  },
  {
   "cell_type": "code",
   "execution_count": null,
   "metadata": {},
   "outputs": [],
   "source": [
    "def make_continuum(term1, term2, path1, path2): \n",
    "    newpath = term1 + '_' + term2 + '_continuum'\n",
    "    continuum_path = 'C:\\\\Users\\\\Doug\\\\Desktop\\\\comp-syn\\\\downloads\\\\' + newpath\n",
    "    \n",
    "    if not os.path.isdir(continuum_path): \n",
    "        os.mkdir(continuum_path)\n",
    "    \n",
    "    imgset1 = os.listdir(path1)\n",
    "    imgset2 = os.listdir(path2)\n",
    "    \n",
    "    i=0\n",
    "    os.chdir(path1)\n",
    "    for img in imgset1: \n",
    "        img = Image.open(img) \n",
    "        img.save(continuum_path + '\\\\' + \"img_\" + str(i) + '.jpg', 'JPEG')\n",
    "        i+=1\n",
    "        \n",
    "    os.chdir(path2)\n",
    "    for img in imgset2: \n",
    "        img = Image.open(img) \n",
    "        img.save(continuum_path + '\\\\' + \"img_\" + str(i) + '.jpg', 'JPEG')\n",
    "        i+=1\n",
    "    \n",
    "    return continuum_path"
   ]
  },
  {
   "cell_type": "code",
   "execution_count": null,
   "metadata": {},
   "outputs": [],
   "source": [
    "term1 = 'morning ocean'\n",
    "term2 = 'night ocean'\n",
    "\n",
    "path1 = 'C:\\\\Users\\\\Doug\\\\Desktop\\\\comp-syn\\\\downloads\\\\' + term1\n",
    "path2 = 'C:\\\\Users\\\\Doug\\\\Desktop\\\\comp-syn\\\\downloads\\\\' + term2"
   ]
  },
  {
   "cell_type": "code",
   "execution_count": null,
   "metadata": {},
   "outputs": [],
   "source": [
    "continuum_path = make_continuum(term1, term2, path1, path2)"
   ]
  },
  {
   "cell_type": "code",
   "execution_count": null,
   "metadata": {},
   "outputs": [],
   "source": [
    "continuum_path = 'C:\\\\Users\\\\Doug\\\\Desktop\\\\comp-syn\\\\downloads\\\\dead tree_tree_continuum'"
   ]
  },
  {
   "cell_type": "markdown",
   "metadata": {},
   "source": [
    "### Load new continuum folder via load_img_dict_with_window"
   ]
  },
  {
   "cell_type": "code",
   "execution_count": null,
   "metadata": {},
   "outputs": [],
   "source": [
    "window=60\n",
    "num_imgs = len(os.listdir(continuum_path))\n",
    "idxs = range(0, len(os.listdir(continuum_path)) - window)\n",
    "\n",
    "savepath = 'C:\\\\Users\\\\Doug\\\\Desktop\\\\comp-syn\\\\colorgrams\\\\'\n",
    "savepath = savepath + term1 + \"_\" + term2 + \"_CGs_\" + str(window)\n",
    "\n",
    "if not os.path.isdir(savepath): \n",
    "    os.mkdir(savepath)"
   ]
  },
  {
   "cell_type": "code",
   "execution_count": null,
   "metadata": {},
   "outputs": [],
   "source": [
    "#Arrange Continuum Images so they are loaded in the proper order \n",
    "continuum_files = os.listdir(continuum_path)\n",
    "\n",
    "numIDs = list(map(lambda sub:int(''.join([ele for ele in sub if ele.isnumeric()])), continuum_files)) \n",
    "\n",
    "continuum_dict={}\n",
    "for i in range(len(numIDs)):\n",
    "    ID = numIDs[i]\n",
    "    continuum_dict[ID] = continuum_files[i]\n",
    "\n",
    "continuum_dict_ord = dict(OrderedDict(sorted(continuum_dict.items())))\n",
    "continuum_files = list(continuum_dict_ord.values())\n"
   ]
  },
  {
   "cell_type": "code",
   "execution_count": null,
   "metadata": {},
   "outputs": [],
   "source": [
    "@jit\n",
    "def make_window_color_gram(idx, continuum_path = continuum_path, \n",
    "                           continuum_files = continuum_files, \n",
    "                           window=window, savepath=savepath): \n",
    "    \n",
    "    imagedata.load_image_continuum_from_folder(continuum_path, continuum_files, idx, window)\n",
    "    imageanalysis = compsyn.analysis.ImageAnalysis(imagedata)    \n",
    "    imageanalysis.compute_color_distributions(imageanalysis.labels_list, color_rep=['jzazbz', 'rgb'])\n",
    "    compressed_image_dict = imageanalysis.get_composite_image()\n",
    "    \n",
    "    img = PIL.Image.fromarray(compressed_image_dict[list(compressed_image_dict.keys())[0]].astype(np.uint8))\n",
    "    img.save(savepath + '\\\\' + \"CG_\" + str(idx) + '.jpg', 'JPEG')\n"
   ]
  },
  {
   "cell_type": "code",
   "execution_count": null,
   "metadata": {},
   "outputs": [],
   "source": [
    "imagedata = compsyn.datahelper.ImageData()"
   ]
  },
  {
   "cell_type": "code",
   "execution_count": null,
   "metadata": {},
   "outputs": [],
   "source": [
    "for idx in idxs: \n",
    "    make_window_color_gram(idx, continuum_path = continuum_path, \n",
    "                           continuum_files = continuum_files,\n",
    "                           window=window, savepath=savepath)"
   ]
  }
 ],
 "metadata": {
  "kernelspec": {
   "display_name": "Python 3",
   "language": "python",
   "name": "python3"
  },
  "language_info": {
   "codemirror_mode": {
    "name": "ipython",
    "version": 3
   },
   "file_extension": ".py",
   "mimetype": "text/x-python",
   "name": "python",
   "nbconvert_exporter": "python",
   "pygments_lexer": "ipython3",
   "version": "3.8.5"
  }
 },
 "nbformat": 4,
 "nbformat_minor": 4
}
