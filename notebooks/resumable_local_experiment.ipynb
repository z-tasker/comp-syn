{
 "cells": [
  {
   "cell_type": "markdown",
   "metadata": {},
   "source": [
    "## Resumable Experiments with Compsyn"
   ]
  },
  {
   "cell_type": "code",
   "execution_count": 1,
   "metadata": {},
   "outputs": [],
   "source": [
    "from __future__ import annotations\n",
    "\n",
    "import time\n",
    "from datetime import datetime\n",
    "\n",
    "from compsyn.config import CompsynConfig\n",
    "from compsyn.trial import Trial\n",
    "from compsyn.vectors import WordToColorVector"
   ]
  },
  {
   "cell_type": "markdown",
   "metadata": {},
   "source": [
    "### Configuration"
   ]
  },
  {
   "cell_type": "code",
   "execution_count": 2,
   "metadata": {},
   "outputs": [
    {
     "name": "stdout",
     "output_type": "stream",
     "text": [
      "[1616466313] (compsyn.Trial)  INFO: work_dir: /Volumes/LACIE/compsyn/notebook_work_dir\n",
      "[1616466313] (compsyn.Trial)  INFO: experiment: concreteness\n",
      "[1616466313] (compsyn.Trial)  INFO: trial_id: example-snippet\n",
      "[1616466313] (compsyn.Trial)  INFO: hostname: topside\n",
      "\n",
      " CompsynConfig\n",
      "\tjzazbz_array                   = /Volumes/LACIE/compsyn/jzazbz_array.npy\n",
      "\tgoogle_application_credentials = /Volumes/LACIE/compsyn/compsyn3-8cf6580619a9.json\n",
      "\tdriver_browser                 = Firefox\n",
      "\tdriver_path                    = /usr/local/bin/geckodriver\n",
      "\ts3_bucket                      = None\n",
      "\ts3_region_name                 = None\n",
      "\ts3_endpoint_url                = None\n",
      "\ts3_access_key_id               = None\n",
      "\ts3_secret_access_key           = None\n",
      "\tlog_level                      = 20\n",
      "\tlog_file                       = None\n",
      "\twork_dir                       = /Volumes/LACIE/compsyn/notebook_work_dir\n",
      "\n",
      " Trial\n",
      "\texperiment_name = concreteness\n",
      "\ttrial_id        = example-snippet\n",
      "\thostname        = topside\n",
      "\ttrial_timestamp = 2021-03-23\n"
     ]
    }
   ],
   "source": [
    "COMPSYN_ROOT_DIR=\"/Volumes/LACIE/compsyn\" # change to a path on your local system where you store compsyn files\n",
    "config = CompsynConfig(\n",
    "    work_dir=f\"{COMPSYN_ROOT_DIR}/notebook_work_dir\",\n",
    "    jzazbz_array=f\"{COMPSYN_ROOT_DIR}/jzazbz_array.npy\",\n",
    "    google_application_credentials=f\"{COMPSYN_ROOT_DIR}/compsyn3-8cf6580619a9.json\",\n",
    "    driver_path=\"/usr/local/bin/geckodriver\",\n",
    "    driver_browser=\"Firefox\",\n",
    ")\n",
    "\n",
    "trial = Trial(\n",
    "    experiment_name=\"concreteness\",\n",
    "    trial_id=\"example-snippet\",\n",
    "    hostname=\"topside\",\n",
    "    trial_timestamp=datetime.utcnow().strftime(\"%Y-%m-%d\")\n",
    ")\n",
    "\n",
    "print(\"\\n\", config)\n",
    "print(\"\\n\", trial)"
   ]
  },
  {
   "cell_type": "markdown",
   "metadata": {},
   "source": [
    "We define some examples in code here, but larger scale experiments could use CSVs or JSON files to record what vectors should be created"
   ]
  },
  {
   "cell_type": "code",
   "execution_count": 3,
   "metadata": {},
   "outputs": [],
   "source": [
    "# snippet of experiment comprised of only two labels, real experiments will have many more labels \n",
    "vectors_metadata = [\n",
    "  {\n",
    "    \"label\": \"solid\",\n",
    "    \"Bigram\": \"0\",\n",
    "    \"Conc.M\": \"4.42\",\n",
    "    \"Conc.SD\": \"0.81\",\n",
    "    \"Unknown\": \"0\",\n",
    "    \"Total\": \"26\",\n",
    "    \"Percent_known\": \"1\",\n",
    "    \"SUBTLEX\": \"998\",\n",
    "    \"Dom_Pos\": \"Adjective\"\n",
    "  },\n",
    "  {\n",
    "    \"label\": \"woolly\",\n",
    "    \"Bigram\": \"0\",\n",
    "    \"Conc.M\": \"3.96\",\n",
    "    \"Conc.SD\": \"1.14\",\n",
    "    \"Unknown\": \"1\",\n",
    "    \"Total\": \"26\",\n",
    "    \"Percent_known\": \"0.96\",\n",
    "    \"SUBTLEX\": \"24\",\n",
    "    \"Dom_Pos\": \"Adjective\"\n",
    "  }\n",
    "]"
   ]
  },
  {
   "cell_type": "markdown",
   "metadata": {},
   "source": [
    "We will create a `WordToColorVector` for each of the metadata entries"
   ]
  },
  {
   "cell_type": "code",
   "execution_count": 4,
   "metadata": {},
   "outputs": [
    {
     "name": "stdout",
     "output_type": "stream",
     "text": [
      "[1616466323] (compsyn.fetch_image_urls)  INFO: 'solid': 100 search results. Extracting links from 0:100\n",
      "[1616466405] (compsyn.search_and_download)  INFO: 98/100 images successfully downloaded for 'solid'\n",
      "[1616466405] (compsyn.WordToColorVector.solid)  INFO: saved 10.3KiB pickle to /Volumes/LACIE/compsyn/notebook_work_dir/concreteness/vectors/unnamed/solid/w2cv.pickle\n",
      "[1616466408] (compsyn.ImageAnalysis)  INFO: solid is being compressed.\n",
      "[1616466414] (compsyn.fetch_image_urls)  INFO: 'woolly': 100 search results. Extracting links from 0:100\n",
      "[1616466526] (compsyn.search_and_download)  INFO: 99/100 images successfully downloaded for 'woolly'\n",
      "[1616466526] (compsyn.WordToColorVector.woolly)  INFO: saved 11.4KiB pickle to /Volumes/LACIE/compsyn/notebook_work_dir/concreteness/vectors/unnamed/woolly/w2cv.pickle\n",
      "[1616466530] (compsyn.ImageAnalysis)  INFO: woolly is being compressed.\n",
      "run_experiment completed in 213 seconds\n"
     ]
    }
   ],
   "source": [
    "def run_experiment(trial: Trial, vectors_metadata: List[Dict[str, str]]) -> List[WordToColorVector]:\n",
    "    start = time.time()\n",
    "    vectors = list()\n",
    "    for vector_metadata in vectors_metadata:\n",
    "        label = vector_metadata[\"label\"]\n",
    "        w2cv = WordToColorVector(label=label, metadata=vector_metadata, trial=trial)\n",
    "        w2cv.run()\n",
    "        vectors.append(w2cv)\n",
    "    print(f\"run_experiment completed in {int(time.time() - start)} seconds\")\n",
    "    return vectors\n",
    "\n",
    "vectors = run_experiment(trial, vectors_metadata) # takes ~3 minutes"
   ]
  },
  {
   "cell_type": "markdown",
   "metadata": {},
   "source": [
    "Since `WordToColorVector.run` knows when to `save` and `load` results for the given trial, this process is resumable, as we see when we add an entry, and re-run the experiment, only the newest entry needs to download images, the other already saved objects are simply reloaded."
   ]
  },
  {
   "cell_type": "code",
   "execution_count": 5,
   "metadata": {},
   "outputs": [
    {
     "name": "stdout",
     "output_type": "stream",
     "text": [
      "[1616466533] (compsyn.WordToColorVector.solid)  INFO: 98 raw images already downloaded\n",
      "[1616466533] (compsyn.load_pickle)  INFO: loaded pickle from /Volumes/LACIE/compsyn/notebook_work_dir/concreteness/vectors/unnamed/solid/w2cv.pickle\n",
      "[1616466536] (compsyn.ImageAnalysis)  INFO: solid is being compressed.\n",
      "[1616466536] (compsyn.WordToColorVector.woolly)  INFO: 99 raw images already downloaded\n",
      "[1616466536] (compsyn.load_pickle)  INFO: loaded pickle from /Volumes/LACIE/compsyn/notebook_work_dir/concreteness/vectors/unnamed/woolly/w2cv.pickle\n",
      "[1616466540] (compsyn.ImageAnalysis)  INFO: woolly is being compressed.\n",
      "[1616466546] (compsyn.fetch_image_urls)  INFO: 'hoover': 100 search results. Extracting links from 0:100\n",
      "[1616466627] (compsyn.search_and_download)  INFO: 92/100 images successfully downloaded for 'hoover'\n",
      "[1616466627] (compsyn.WordToColorVector.hoover)  INFO: saved 10.8KiB pickle to /Volumes/LACIE/compsyn/notebook_work_dir/concreteness/vectors/unnamed/hoover/w2cv.pickle\n",
      "[1616466629] (compsyn.ImageAnalysis)  INFO: hoover is being compressed.\n",
      "run_experiment completed in 96 seconds\n"
     ]
    }
   ],
   "source": [
    "vectors_metadata.append(\n",
    "    {\n",
    "        \"label\": \"hoover\",\n",
    "        \"Bigram\": \"0\",\n",
    "        \"Conc.M\": \"3.76\",\n",
    "        \"Conc.SD\": \"1.23\",\n",
    "        \"Unknown\": \"4\",\n",
    "        \"Total\": \"29\",\n",
    "        \"Percent_known\": \"0.86\",\n",
    "        \"SUBTLEX\": \"162\",\n",
    "        \"Dom_Pos\": \"0\"\n",
    "    }\n",
    ")\n",
    "vectors = run_experiment(trial, vectors_metadata)"
   ]
  },
  {
   "cell_type": "markdown",
   "metadata": {},
   "source": [
    "`Vector` subclasses will try to look good when printed, for easy inspection of state"
   ]
  },
  {
   "cell_type": "code",
   "execution_count": 7,
   "metadata": {},
   "outputs": [
    {
     "name": "stdout",
     "output_type": "stream",
     "text": [
      "\n",
      " WordToColorVector(solid)\n",
      "\tTrial\n",
      "\t\texperiment_name = concreteness\n",
      "\t\ttrial_id        = example-snippet\n",
      "\t\thostname        = topside\n",
      "\t\ttrial_timestamp = 2021-03-23\n",
      "\tmetadata:\n",
      "\t\tlabel                                    = solid\n",
      "\t\tBigram                                   = 0\n",
      "\t\tConc.M                                   = 4.42\n",
      "\t\tConc.SD                                  = 0.81\n",
      "\t\tUnknown                                  = 0\n",
      "\t\tTotal                                    = 26\n",
      "\t\tPercent_known                            = 1\n",
      "\t\tSUBTLEX                                  = 998\n",
      "\t\tDom_Pos                                  = Adjective\n",
      "\tgenerated data:\n",
      "\t\t(raw images available)\n",
      "\t\traw_image_urls   = 100\n",
      "\t\trgb_dist         = ['9.65e-08', '2.34e-08', '8.16e-09', '2.75e-08', '2.55e-08', '1.92e-09', '1.44e-08', '2.85e-07']\n",
      "\t\tjzazbz_dist      = [77.313, 156.422, 7.83, 47.582, 75.257, 381.679, 15.67, 80.0]\n",
      "\t\tjzazbz_dist_std  = [166.635, 214.535, 45.044, 98.286, 120.541, 256.147, 63.794, 118.99]\n",
      "\n",
      " WordToColorVector(woolly)\n",
      "\tTrial\n",
      "\t\texperiment_name = concreteness\n",
      "\t\ttrial_id        = example-snippet\n",
      "\t\thostname        = topside\n",
      "\t\ttrial_timestamp = 2021-03-23\n",
      "\tmetadata:\n",
      "\t\tlabel                                    = woolly\n",
      "\t\tBigram                                   = 0\n",
      "\t\tConc.M                                   = 3.96\n",
      "\t\tConc.SD                                  = 1.14\n",
      "\t\tUnknown                                  = 1\n",
      "\t\tTotal                                    = 26\n",
      "\t\tPercent_known                            = 0.96\n",
      "\t\tSUBTLEX                                  = 24\n",
      "\t\tDom_Pos                                  = Adjective\n",
      "\tgenerated data:\n",
      "\t\t(raw images available)\n",
      "\t\traw_image_urls   = 100\n",
      "\t\trgb_dist         = ['1.98e-07', '6.99e-09', '1.80e-09', '1.55e-08', '2.65e-08', '4.22e-10', '2.06e-08', '2.13e-07']\n",
      "\t\tjzazbz_dist      = [21.044, 220.356, 0.562, 175.847, 42.014, 322.449, 0.431, 59.05]\n",
      "\t\tjzazbz_dist_std  = [52.501, 202.995, 3.302, 158.817, 82.198, 185.222, 2.283, 62.546]\n",
      "\n",
      " WordToColorVector(hoover)\n",
      "\tTrial\n",
      "\t\texperiment_name = concreteness\n",
      "\t\ttrial_id        = example-snippet\n",
      "\t\thostname        = topside\n",
      "\t\ttrial_timestamp = 2021-03-23\n",
      "\tmetadata:\n",
      "\t\tlabel                                    = hoover\n",
      "\t\tBigram                                   = 0\n",
      "\t\tConc.M                                   = 3.76\n",
      "\t\tConc.SD                                  = 1.23\n",
      "\t\tUnknown                                  = 4\n",
      "\t\tTotal                                    = 29\n",
      "\t\tPercent_known                            = 0.86\n",
      "\t\tSUBTLEX                                  = 162\n",
      "\t\tDom_Pos                                  = 0\n",
      "\tgenerated data:\n",
      "\t\t(raw images available)\n",
      "\t\traw_image_urls   = 100\n",
      "\t\trgb_dist         = ['8.52e-08', '4.83e-09', '1.52e-09', '3.22e-09', '1.35e-08', '3.86e-10', '7.97e-09', '3.66e-07']\n",
      "\t\tjzazbz_dist      = [36.041, 256.977, 1.076, 54.76, 13.824, 425.946, 0.197, 52.933]\n",
      "\t\tjzazbz_dist_std  = [54.429, 143.264, 3.02, 83.916, 19.069, 150.008, 0.438, 109.015]\n"
     ]
    }
   ],
   "source": [
    "for vector in vectors:\n",
    "    print(\"\\n\", vector)"
   ]
  },
  {
   "cell_type": "code",
   "execution_count": null,
   "metadata": {},
   "outputs": [],
   "source": []
  }
 ],
 "metadata": {
  "kernelspec": {
   "display_name": "Python 3",
   "language": "python",
   "name": "python3"
  },
  "language_info": {
   "codemirror_mode": {
    "name": "ipython",
    "version": 3
   },
   "file_extension": ".py",
   "mimetype": "text/x-python",
   "name": "python",
   "nbconvert_exporter": "python",
   "pygments_lexer": "ipython3",
   "version": "3.8.5"
  }
 },
 "nbformat": 4,
 "nbformat_minor": 4
}
